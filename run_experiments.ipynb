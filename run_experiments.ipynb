{
 "cells": [
  {
   "cell_type": "code",
   "execution_count": 1,
   "id": "59d241f6-d1e6-4203-9c92-f788183ca7f7",
   "metadata": {},
   "outputs": [],
   "source": [
    "# run_experiment.py\n",
    "# Dummy placeholder for running prompts through LLM (manual run or API)\n",
    "\n",
    "import datetime\n",
    "\n",
    "def log_response(prompt_name, model_name, response):\n",
    "    timestamp = datetime.datetime.now().isoformat()\n",
    "    with open(f\"{model_name}_{prompt_name}_log.txt\", \"a\") as f:\n",
    "        f.write(f\"{timestamp}\\nPROMPT: {prompt_name}\\nRESPONSE:\\n{response}\\n\\n\")\n",
    "\n",
    "# Example usage:\n",
    "# log_response(\"positive\", \"GPT-4\", \"Player A shows promise because...\")\n",
    "\n",
    "\n"
   ]
  },
  {
   "cell_type": "code",
   "execution_count": null,
   "id": "c2e2fe4a-c48c-4723-9464-063c8f4f3c99",
   "metadata": {},
   "outputs": [],
   "source": []
  }
 ],
 "metadata": {
  "kernelspec": {
   "display_name": "Python 3 (ipykernel)",
   "language": "python",
   "name": "python3"
  },
  "language_info": {
   "codemirror_mode": {
    "name": "ipython",
    "version": 3
   },
   "file_extension": ".py",
   "mimetype": "text/x-python",
   "name": "python",
   "nbconvert_exporter": "python",
   "pygments_lexer": "ipython3",
   "version": "3.13.1"
  }
 },
 "nbformat": 4,
 "nbformat_minor": 5
}
